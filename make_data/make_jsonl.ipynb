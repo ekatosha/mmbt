{
 "cells": [
  {
   "cell_type": "code",
   "execution_count": 11,
   "metadata": {},
   "outputs": [],
   "source": [
    "import os\n",
    "import json\n",
    "import pandas as pd\n",
    "import numpy as np"
   ]
  },
  {
   "cell_type": "code",
   "execution_count": 7,
   "metadata": {},
   "outputs": [],
   "source": [
    "d = {'name': [], 'label': []}\n",
    "for root, dirs, files in os.walk(\"C:/Users/ekant/Desktop/final/areas\", topdown=True):\n",
    "    for i in files:\n",
    "        with open(root+'/'+i,  encoding='utf-8') as f:\n",
    "            users = f.read()\n",
    "            users = json.loads(users)\n",
    "        d['name'].append(users['fileName'][:-4])\n",
    "        if 'class' in users:\n",
    "            d['label'].append(users['class'])\n",
    "        else:\n",
    "            d['label'].append('no markup')"
   ]
  },
  {
   "cell_type": "code",
   "execution_count": 8,
   "metadata": {},
   "outputs": [],
   "source": [
    "d_new = {'name_file': [], 'text': []}\n",
    "for root, dirs, files in os.walk(\"C:/Users/ekant/Desktop/final/wk\", topdown=True):\n",
    "    for i in files:\n",
    "        with open(root+'/'+i,  encoding='utf-8') as f:\n",
    "            users = f.read()\n",
    "            users = json.loads(users)\n",
    "        d_new['name_file'].append(i[:-5])\n",
    "        if 'Tags.contents' in users:\n",
    "            d_new['text'].append(users['Tags.contents'])\n",
    "        else:\n",
    "            d_new['text'].append(None)"
   ]
  },
  {
   "cell_type": "code",
   "execution_count": 9,
   "metadata": {},
   "outputs": [],
   "source": [
    "d['text'] =  d_new['text']"
   ]
  },
  {
   "cell_type": "code",
   "execution_count": 10,
   "metadata": {},
   "outputs": [],
   "source": [
    "d['name_file'] =  d_new['name_file']"
   ]
  },
  {
   "cell_type": "code",
   "execution_count": 12,
   "metadata": {},
   "outputs": [],
   "source": [
    "df = pd.DataFrame(d)"
   ]
  },
  {
   "cell_type": "code",
   "execution_count": 13,
   "metadata": {},
   "outputs": [
    {
     "data": {
      "text/html": [
       "<div>\n",
       "<style scoped>\n",
       "    .dataframe tbody tr th:only-of-type {\n",
       "        vertical-align: middle;\n",
       "    }\n",
       "\n",
       "    .dataframe tbody tr th {\n",
       "        vertical-align: top;\n",
       "    }\n",
       "\n",
       "    .dataframe thead th {\n",
       "        text-align: right;\n",
       "    }\n",
       "</style>\n",
       "<table border=\"1\" class=\"dataframe\">\n",
       "  <thead>\n",
       "    <tr style=\"text-align: right;\">\n",
       "      <th></th>\n",
       "      <th>name</th>\n",
       "      <th>label</th>\n",
       "      <th>text</th>\n",
       "      <th>name_file</th>\n",
       "    </tr>\n",
       "  </thead>\n",
       "  <tbody>\n",
       "    <tr>\n",
       "      <th>0</th>\n",
       "      <td>Akte_01_-_001</td>\n",
       "      <td>none</td>\n",
       "      <td>Gustav Gütig (staatl. gepr. Gutachter Gartenst...</td>\n",
       "      <td>Akte_01_-_001</td>\n",
       "    </tr>\n",
       "    <tr>\n",
       "      <th>1</th>\n",
       "      <td>Akte_01_-_002</td>\n",
       "      <td>briefpost</td>\n",
       "      <td>Martin Kaufmann Neuer Jungfernstieg 32, 84571 ...</td>\n",
       "      <td>Akte_01_-_002</td>\n",
       "    </tr>\n",
       "    <tr>\n",
       "      <th>2</th>\n",
       "      <td>Akte_01_-_003</td>\n",
       "      <td>none</td>\n",
       "      <td></td>\n",
       "      <td>Akte_01_-_003</td>\n",
       "    </tr>\n",
       "    <tr>\n",
       "      <th>3</th>\n",
       "      <td>Akte_01_-_004</td>\n",
       "      <td>none</td>\n",
       "      <td>Bernhard Baumeister UG Siemensstr. 23 DATUM: 2...</td>\n",
       "      <td>Akte_01_-_004</td>\n",
       "    </tr>\n",
       "    <tr>\n",
       "      <th>4</th>\n",
       "      <td>Akte_01_-_005</td>\n",
       "      <td>none</td>\n",
       "      <td>HKL Handelund Bau Rechnungsnummer Bitte bei Za...</td>\n",
       "      <td>Akte_01_-_005</td>\n",
       "    </tr>\n",
       "  </tbody>\n",
       "</table>\n",
       "</div>"
      ],
      "text/plain": [
       "            name      label  \\\n",
       "0  Akte_01_-_001       none   \n",
       "1  Akte_01_-_002  briefpost   \n",
       "2  Akte_01_-_003       none   \n",
       "3  Akte_01_-_004       none   \n",
       "4  Akte_01_-_005       none   \n",
       "\n",
       "                                                text      name_file  \n",
       "0  Gustav Gütig (staatl. gepr. Gutachter Gartenst...  Akte_01_-_001  \n",
       "1  Martin Kaufmann Neuer Jungfernstieg 32, 84571 ...  Akte_01_-_002  \n",
       "2                                                     Akte_01_-_003  \n",
       "3  Bernhard Baumeister UG Siemensstr. 23 DATUM: 2...  Akte_01_-_004  \n",
       "4  HKL Handelund Bau Rechnungsnummer Bitte bei Za...  Akte_01_-_005  "
      ]
     },
     "execution_count": 13,
     "metadata": {},
     "output_type": "execute_result"
    }
   ],
   "source": [
    "df.head()"
   ]
  },
  {
   "cell_type": "code",
   "execution_count": 14,
   "metadata": {},
   "outputs": [],
   "source": [
    "df_without_none= df.replace('', 'None')"
   ]
  },
  {
   "cell_type": "code",
   "execution_count": 15,
   "metadata": {},
   "outputs": [],
   "source": [
    "doc_for_test = {\"Akte_01_-_037\",\n",
    "    \"Akte_01_-_088\",\n",
    "    \"Akte_03_-_023\",\n",
    "    \"Akte_03_-_016\",\n",
    "    \"Akte_03_-_025\",\n",
    "    \"Akte_03_-_027\",\n",
    "    \"Akte_03_-_031\",\n",
    "    \"Akte_03_-_052-2\",\n",
    "    \"Akte_03_-_053-1\",\n",
    "    \"Akte_03_-_058\",\n",
    "    \"Akte_03_-_064-1\",\n",
    "    \"Akte_03_-_065-2\",\n",
    "    \"Akte_03_-_085-3\",\n",
    "    \"Akte_03_-_087-2\",\n",
    "    \"Akte_03_-_100\",\n",
    "    \"Akte_03_-_112\",\n",
    "    \"Akte_03_-_111\",\n",
    "    \"Akte_03_-_118\",\n",
    "    \"Akte_03_-_123-1\",\n",
    "    \"Akte_03_-_142-1\",\n",
    "    \"Akte_03_-_150\",\n",
    "    \"Akte_03_-_158\",\n",
    "    \"Akte_04_-_007\",\n",
    "    \"Akte_04_-_010-1\",\n",
    "    \"Akte_04_-_023\",\n",
    "    \"Akte_04_-_036-3\",\n",
    "    \"Akte_04_-_046-1\",\n",
    "    \"Akte_06_-_057\",\n",
    "    \"Akte_06_-_060\",\n",
    "    \"Akte_06_-_087\",\n",
    "    \"Akte_07_-_013\",\n",
    "    \"Akte_07_-_028\",\n",
    "    \"Akte_07_-_035\",\n",
    "    \"Akte_07_-_045\",\n",
    "    \"Akte_07_-_066\",\n",
    "    \"Akte_07_-_071\",\n",
    "    \"Akte_07_-_073\",\n",
    "    \"Akte_07_-_077\",\n",
    "    \"Akte_07_-_083\",\n",
    "    \"Akte_07_-_100\",\n",
    "    \"Akte_07_-_103\",\n",
    "    \"Akte_07_-_122\",\n",
    "    \"Akte_07_-_130\",\n",
    "    \"Akte_07_-_135\",\n",
    "    \"Akte_07_-_154\",\n",
    "    \"Akte_07_-_159\",\n",
    "    \"Akte_07_-_165\",\n",
    "    \"Akte_09_-_13\",\n",
    "    \"Akte_09_-_38\",\n",
    "    \"Akte_10_-_01\",\n",
    "    \"Akte_14_Dok_10\",\n",
    "    \"Akte_14_Dok_15\",\n",
    "    \"Akte_16_-_Dok_001\",\n",
    "    \"Akte_16_-_Dok_054\",\n",
    "    \"Akte_16_-_Dok_076\",\n",
    "    \"Akte_17_-_Dok_42\",\n",
    "    \"Akte_18_-_Dok_20\",\n",
    "    \"Akte_23_-_45\",\n",
    "    \"Akte_20_-_Dok_11\",\n",
    "    \"Akte_20_-_Dok_10\", \"Akte_01_-_038\", \"Akte_22_-_18\", \"Akte_01_-_016\", \"Akte_19_-_Dok_09\", \"Akte_03_-_022\", \n",
    "\"Akte_19_-_Dok_24\", \"Akte_21_-_32\", \"Akte_19_-_Dok_23\", \"Akte_22_-_15\", \"Akte_12_Dok_01\", \"Akte_21_-_19\", \"Akte_08_-_40\"\n",
    "\"Akte_01_-_036\", \"Akte_22_-_05\", \"Akte_22_-_22\", \"Akte_21_-_25\", \"Akte_01_-_043\", \"Akte_23_-_28\", \"Akte_01_-_043\", \"Akte_21_-_29\", \n",
    "\"Akte_01_-_079\", \"Akte_16_-_Dok_029\", \"Akte_16_-_Dok_024\", \"Akte_03_-_061-2\", \"Akte_16_-_Dok_031\",\n",
    " \"Akte_16_-_Dok_044\", \"Akte_16_-_Dok_055\", \"Akte_03_-_039\", \"Akte_03_-_144-1\", \"Akte_09_-_54\", \"Akte_01_-_057\", \"Akte_21_-_15\", \"Akte_06_-_064\",\n",
    "\"Akte_06_-_030\", \"Akte_16_-_Dok_057\", \"Akte_03_-_117\", \"Akte_03_-_076\", \"Akte_03_-_078\", \"Akte_03_-_094-3\", \"Akte_16_-_Dok_055\", \n",
    "\"Akte_19_-_Dok_07\", \"Akte_17_-_Dok_35\", \"Akte_01_-_002\", \"Akte_06_-_126\", \"Akte_16_-_Dok_100\", \"Akte_23_-_50\", \"Akte_03_-_144-4\", \"Akte_03_-_141\", \"Akte_01_-_007\", \"Akte_16_-_Dok_005\"}"
   ]
  },
  {
   "cell_type": "code",
   "execution_count": 16,
   "metadata": {},
   "outputs": [
    {
     "data": {
      "text/plain": [
       "1153"
      ]
     },
     "execution_count": 16,
     "metadata": {},
     "output_type": "execute_result"
    }
   ],
   "source": [
    "list_train = []\n",
    "for i, row in df_without_none.iterrows():\n",
    "    if row['name'] not in doc_for_test:   \n",
    "        d = {}\n",
    "        d[\"text\"] = row[\"text\"]\n",
    "        name = row['name']\n",
    "        d[\"img\"] = f'images\\\\{name}\\\\{name}_page_1.PNG'\n",
    "        d[\"label\"] = row[\"label\"]\n",
    "        train_js = json.dumps(d)\n",
    "        list_train.append(train_js)\n",
    "len(list_train)"
   ]
  },
  {
   "cell_type": "code",
   "execution_count": 24,
   "metadata": {},
   "outputs": [],
   "source": [
    "train = list_train[:808]\n",
    "test = list_train[808:923]\n",
    "dev = list_train[923:1038]\n",
    "test_hard_gt = list_train[1038:]"
   ]
  },
  {
   "cell_type": "code",
   "execution_count": 22,
   "metadata": {},
   "outputs": [],
   "source": [
    "to_save = {'train': train, \"test\": test, \"dev\": dev, \"test_hard_gt\": test_hard_gt}"
   ]
  },
  {
   "cell_type": "code",
   "execution_count": 23,
   "metadata": {},
   "outputs": [],
   "source": [
    "for key in to_save:\n",
    "    f = open(f'{key}.jsonl', 'tw', encoding='utf-8')\n",
    "    f.write('\\n'.join(to_save[key]))\n",
    "    f.close()"
   ]
  }
 ],
 "metadata": {
  "kernelspec": {
   "display_name": "Python 3",
   "language": "python",
   "name": "python3"
  },
  "language_info": {
   "codemirror_mode": {
    "name": "ipython",
    "version": 3
   },
   "file_extension": ".py",
   "mimetype": "text/x-python",
   "name": "python",
   "nbconvert_exporter": "python",
   "pygments_lexer": "ipython3",
   "version": "3.7.3"
  }
 },
 "nbformat": 4,
 "nbformat_minor": 2
}
